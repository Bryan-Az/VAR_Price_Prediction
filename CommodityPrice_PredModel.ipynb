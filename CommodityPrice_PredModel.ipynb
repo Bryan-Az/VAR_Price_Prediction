{
 "cells": [
  {
   "cell_type": "markdown",
   "metadata": {},
   "source": [
    "# Gold & Silver Price Prediction Model using a Dataset of Valuable Investment Commodities\n",
    "This project and the architecture for the model construction wil follow SEMMA guidelines and describe each step in the process using the following stages:\n",
    "1. Sample\n",
    "\n",
    "    a. Access\n",
    "\n",
    "    b. Sampling along the time feature to infer seasonal effects\n",
    "\n",
    "2. Explore\n",
    "\n",
    "    a. Exploratory Variable Analysis (w/ Time Sample data)\n",
    "    b. Exploratory Data Visualization (w/ Time Sample data)\n",
    "    b. Construct project goals and define metrics\n",
    "\n",
    "3. Modify\n",
    "\n",
    "    a. Feature Cleaning & Preprocessing (w/ Time Sample data)\n",
    "\n",
    "    b. Feature Engineering (w/ Time Sample data)\n",
    "\n",
    "4. Model\n",
    "\n",
    "    a. Building time series models\n",
    "\n",
    "    b. Testing & selecting models\n",
    "\n",
    "5. Assess\n",
    "\n",
    "    a. Evaluate the predictions against the metrics\n",
    "    \n",
    "    b. Assessing how the model meets the project goals\n"
   ]
  },
  {
   "cell_type": "markdown",
   "metadata": {},
   "source": [
    "## Data Loading and Preparation"
   ]
  },
  {
   "cell_type": "code",
   "execution_count": null,
   "metadata": {
    "vscode": {
     "languageId": "plaintext"
    }
   },
   "outputs": [],
   "source": []
  },
  {
   "cell_type": "code",
   "execution_count": null,
   "metadata": {
    "vscode": {
     "languageId": "plaintext"
    }
   },
   "outputs": [],
   "source": []
  },
  {
   "cell_type": "markdown",
   "metadata": {},
   "source": [
    "## Data Transformation & Feature Engineering"
   ]
  },
  {
   "cell_type": "code",
   "execution_count": null,
   "metadata": {
    "vscode": {
     "languageId": "plaintext"
    }
   },
   "outputs": [],
   "source": []
  },
  {
   "cell_type": "code",
   "execution_count": null,
   "metadata": {
    "vscode": {
     "languageId": "plaintext"
    }
   },
   "outputs": [],
   "source": []
  },
  {
   "cell_type": "code",
   "execution_count": null,
   "metadata": {
    "vscode": {
     "languageId": "plaintext"
    }
   },
   "outputs": [],
   "source": []
  },
  {
   "cell_type": "markdown",
   "metadata": {},
   "source": [
    "## Data Modeling\n",
    "Time-Series Prediction of Gold & Silver"
   ]
  },
  {
   "cell_type": "code",
   "execution_count": null,
   "metadata": {
    "vscode": {
     "languageId": "plaintext"
    }
   },
   "outputs": [],
   "source": []
  }
 ],
 "metadata": {
  "language_info": {
   "name": "python"
  }
 },
 "nbformat": 4,
 "nbformat_minor": 2
}
